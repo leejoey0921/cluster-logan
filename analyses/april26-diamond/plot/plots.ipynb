{
 "cells": [
  {
   "cell_type": "code",
   "execution_count": 56,
   "id": "05797672",
   "metadata": {},
   "outputs": [],
   "source": [
    "import seaborn as sns\n",
    "import matplotlib.pyplot as plt\n",
    "import pandas as pd\n",
    "from collections import Counter\n",
    "\n",
    "# Given Counter data\n",
    "petabases_counter =  {('Prokaryote', 'WGS/WGA'): 1337536637, ('Human', 'OTHER'): 4175010458, ('Metagenome', 'OTHER'): 698673154, ('Plant', 'WGS/WGA'): 3948094067, ('Mouse', 'OTHER'): 2099232371, ('Prokaryote', 'OTHER'): 92153348, ('Mammal', 'OTHER'): 696688033, ('Vertebrate', 'OTHER'): 452695920, ('Plant', 'OTHER'): 1293976973, ('Mammal', 'WGS/WGA'): 3108752753, ('Invertebrate', 'OTHER'): 487270872, ('Mouse', 'WGS/WGA'): 741610048, ('Other', 'WGS/WGA'): 372653970, ('Human', 'WGS/WGA'): 3437232410, ('Vertebrate', 'WGS/WGA'): 1403041500, ('Metagenome', 'WGS/WGA'): 2695259386, ('Plant', 'RNA-Seq'): 2580159244, ('Vertebrate', 'RNA-Seq'): 883797364, ('Virome', 'WGS/WGA'): 25321925, ('Human', 'RNA-Seq'): 6386799101, ('Metagenome', 'RNA-Seq'): 361678065, ('Virome', 'OTHER'): 25097506, ('Fungus', 'OTHER'): 126223433, ('Invertebrate', 'RNA-Seq'): 1112706460, ('Other', 'OTHER'): 77732261, ('Invertebrate', 'WGS/WGA'): 1455626745, ('Mammal', 'RNA-Seq'): 1553205222, ('Other', 'RNA-Seq'): 212404853, ('Mouse', 'RNA-Seq'): 4494480566, ('Fungus', 'RNA-Seq'): 328213251, ('Fungus', 'WGS/WGA'): 326412274, ('Virome', 'RNA-Seq'): 25626784, ('Prokaryote', 'RNA-Seq'): 259057796, ('SARS-CoV-2', 'WGS/WGA'): 69816907, ('SARS-CoV-2', 'OTHER'): 2832190239, ('SARS-CoV-2', 'RNA-Seq'): 22815125}\n",
    "nbacc_counter = {('Prokaryote', 'WGS/WGA'): 2409136, ('Human', 'OTHER'): 1994238, ('Metagenome', 'OTHER'): 5019510, ('Plant', 'WGS/WGA'): 470742, ('Mouse', 'OTHER'): 936644, ('Prokaryote', 'OTHER'): 203422, ('Mammal', 'OTHER'): 321394, ('Vertebrate', 'OTHER'): 384623, ('Plant', 'OTHER'): 883296, ('Mammal', 'WGS/WGA'): 163283, ('Invertebrate', 'OTHER'): 311333, ('Mouse', 'WGS/WGA'): 55979, ('Other', 'WGS/WGA'): 276529, ('Human', 'WGS/WGA'): 423263, ('Vertebrate', 'WGS/WGA'): 177747, ('Metagenome', 'WGS/WGA'): 696777, ('Plant', 'RNA-Seq'): 526356, ('Vertebrate', 'RNA-Seq'): 210511, ('Virome', 'WGS/WGA'): 62189, ('Human', 'RNA-Seq'): 1636171, ('Metagenome', 'RNA-Seq'): 134911, ('Virome', 'OTHER'): 116061, ('Fungus', 'OTHER'): 121606, ('Invertebrate', 'RNA-Seq'): 317896, ('Other', 'OTHER'): 268504, ('Invertebrate', 'WGS/WGA'): 251069, ('Mammal', 'RNA-Seq'): 294394, ('Other', 'RNA-Seq'): 78619, ('Mouse', 'RNA-Seq'): 1853938, ('Fungus', 'RNA-Seq'): 100065, ('Fungus', 'WGS/WGA'): 168737, ('Virome', 'RNA-Seq'): 17175, ('Prokaryote', 'RNA-Seq'): 115412, ('SARS-CoV-2', 'WGS/WGA'): 260316, ('SARS-CoV-2', 'OTHER'): 6345530, ('SARS-CoV-2', 'RNA-Seq'): 60230}"
   ]
  },
  {
   "cell_type": "code",
   "execution_count": 109,
   "id": "31b896fc",
   "metadata": {},
   "outputs": [
    {
     "data": {
      "image/png": "[encoded data removed]",
      "text/plain": [
       "<Figure size 252x252 with 2 Axes>"
      ]
     },
     "metadata": {},
     "output_type": "display_data"
    }
   ],
   "source": [
    "import seaborn as sns\n",
    "import matplotlib.pyplot as plt\n",
    "import pandas as pd\n",
    "\n",
    "# Define the conversion factor (1 petabase)\n",
    "PETABASE = 10**15\n",
    "\n",
    "# Function to aggregate and normalize counts\n",
    "def aggregate_and_normalize_counts(counter_data, normalize=False):\n",
    "    aggregated_data = {}\n",
    "    for (category1, category2), count in counter_data.items():\n",
    "        if category1 in aggregated_data:\n",
    "            aggregated_data[category1] += count\n",
    "        else:\n",
    "            aggregated_data[category1] = count\n",
    "    if normalize:\n",
    "        for key in aggregated_data:\n",
    "            aggregated_data[key] /= (PETABASE/1000000) # it was megabases\n",
    "    return aggregated_data\n",
    "\n",
    "# Normalize petabases_counter values\n",
    "petabases_aggregated = aggregate_and_normalize_counts(petabases_counter, normalize=True)\n",
    "nbacc_aggregated = aggregate_and_normalize_counts(nbacc_counter)\n",
    "\n",
    "# Convert aggregated data to DataFrames\n",
    "df_petabases = pd.DataFrame(list(petabases_aggregated.items()), columns=['Organism', 'Count'])\n",
    "df_nbacc = pd.DataFrame(list(nbacc_aggregated.items()), columns=['Organism', 'Count'])\n",
    "\n",
    "# Define the desired order\n",
    "desired_order = ['Human', 'Mouse', 'Mammal', 'Vertebrate', 'Invertebrate',  'Fungus', 'Plant', 'SARS-CoV-2',  'Prokaryote', 'Virome', 'Metagenome', 'Other'][::-1]\n",
    "\n",
    "# Ensure the order in the DataFrame\n",
    "df_petabases['Organism'] = pd.Categorical(df_petabases['Organism'], categories=desired_order, ordered=True)\n",
    "df_nbacc['Organism'] = pd.Categorical(df_nbacc['Organism'], categories=desired_order, ordered=True)\n",
    "\n",
    "# Set the background to white\n",
    "sns.set_style(\"whitegrid\")\n",
    "\n",
    "\n",
    "# Sort the DataFrames based on the desired order\n",
    "df_petabases = df_petabases.sort_values('Organism')\n",
    "df_nbacc = df_nbacc.sort_values('Organism')\n",
    "\n",
    "# Create the plots\n",
    "fig, axes = plt.subplots(1, 2, figsize=(3.5, 3.5), sharey=True)\n",
    "\n",
    "# Plot for Petabases\n",
    "df_petabases.set_index('Organism').plot(kind='barh', stacked=True, ax=axes[0], color=['gray'])\n",
    "axes[0].set_title('Petabases')\n",
    "axes[0].set_xlabel('Petabases')\n",
    "axes[0].set_ylabel('Organism')\n",
    "\n",
    "# Plot for Number of Accessions\n",
    "df_nbacc.set_index('Organism').plot(kind='barh', stacked=True, ax=axes[1], color=['gray'])\n",
    "axes[1].set_title('# Accessions')\n",
    "axes[1].set_xlabel('')\n",
    "axes[1].set_ylabel('')\n",
    "\n",
    "\n",
    "axes[0].get_legend().remove()\n",
    "axes[1].get_legend().remove()\n",
    "\n",
    "\n",
    "plt.tight_layout()\n",
    "plt.savefig(\"simplified_assay_type_sra.svg\", format=\"svg\")\n",
    "plt.show()\n"
   ]
  },
  {
   "cell_type": "code",
   "execution_count": 58,
   "id": "a8babec7",
   "metadata": {},
   "outputs": [],
   "source": [
    "palmcores_counter =  {('Prokaryote', 'WGS/WGA'): 177285018, ('Human', 'OTHER'): 449625871, ('Metagenome', 'OTHER'): 272954821, ('Plant', 'WGS/WGA'): 254057206, ('Mouse', 'OTHER'): 218091520, ('Prokaryote', 'OTHER'): 18779186, ('Vertebrate', 'OTHER'): 51882542, ('Plant', 'OTHER'): 137977029, ('Mammal', 'WGS/WGA'): 215672097, ('Mouse', 'WGS/WGA'): 74027111, ('Other', 'WGS/WGA'): 51964904, ('Human', 'WGS/WGA'): 313726697, ('Vertebrate', 'WGS/WGA'): 113179229, ('Invertebrate', 'OTHER'): 43764023, ('Metagenome', 'WGS/WGA'): 964130982, ('Plant', 'RNA-Seq'): 377827837, ('Vertebrate', 'RNA-Seq'): 110250064, ('Virome', 'WGS/WGA'): 41375236, ('Human', 'RNA-Seq'): 1079140526, ('Virome', 'OTHER'): 33289174, ('Mammal', 'OTHER'): 64915529, ('Fungus', 'OTHER'): 15016661, ('Invertebrate', 'RNA-Seq'): 164568279, ('Other', 'OTHER'): 17706860, ('Invertebrate', 'WGS/WGA'): 169354895, ('Mammal', 'RNA-Seq'): 257305416, ('Other', 'RNA-Seq'): 31928342, ('Mouse', 'RNA-Seq'): 674516863, ('Metagenome', 'RNA-Seq'): 235178081, ('Fungus', 'RNA-Seq'): 39165430, ('Fungus', 'WGS/WGA'): 34116828, ('Virome', 'RNA-Seq'): 25329743, ('Prokaryote', 'RNA-Seq'): 35003669, ('SARS-CoV-2', 'WGS/WGA'): 331773897, ('SARS-CoV-2', 'OTHER'): 9612787236, ('SARS-CoV-2', 'RNA-Seq'): 77104154}\n",
    "beetle_counter = {('Prokaryote', 'WGS/WGA'): 2119199817, ('Human', 'OTHER'): 4345707067, ('Metagenome', 'OTHER'): 17212416339, ('Plant', 'WGS/WGA'): 4774651669, ('Mouse', 'OTHER'): 1814437405, ('Prokaryote', 'OTHER'): 326454157, ('Vertebrate', 'OTHER'): 373401751, ('Plant', 'OTHER'): 1759506251, ('Mammal', 'WGS/WGA'): 1790781988, ('Mouse', 'WGS/WGA'): 337426553, ('Other', 'WGS/WGA'): 379168255, ('Human', 'WGS/WGA'): 2668975618, ('Vertebrate', 'WGS/WGA'): 750843328, ('Invertebrate', 'OTHER'): 508320036, ('Metagenome', 'WGS/WGA'): 14808294745, ('Plant', 'RNA-Seq'): 6672273326, ('Vertebrate', 'RNA-Seq'): 2223651618, ('Virome', 'WGS/WGA'): 69534808, ('Human', 'RNA-Seq'): 12998081788, ('Virome', 'OTHER'): 30481558, ('Mammal', 'OTHER'): 527323498, ('Fungus', 'OTHER'): 304067619, ('Invertebrate', 'RNA-Seq'): 2779551308, ('Other', 'OTHER'): 255200480, ('Invertebrate', 'WGS/WGA'): 1409540270, ('Mammal', 'RNA-Seq'): 3195040745, ('Other', 'RNA-Seq'): 462100900, ('Mouse', 'RNA-Seq'): 9844028596, ('Metagenome', 'RNA-Seq'): 2425555761, ('Fungus', 'RNA-Seq'): 868327858, ('Fungus', 'WGS/WGA'): 842089909, ('Virome', 'RNA-Seq'): 91878256, ('Prokaryote', 'RNA-Seq'): 505164172, ('SARS-CoV-2', 'WGS/WGA'): 36367418, ('SARS-CoV-2', 'OTHER'): 555841380, ('SARS-CoV-2', 'RNA-Seq'): 37161326}\n",
    "Var_Obelisk_counter =  {('Prokaryote', 'WGS/WGA'): 2880, ('Human', 'OTHER'): 80859, ('Metagenome', 'OTHER'): 202380, ('Plant', 'WGS/WGA'): 3722, ('Mouse', 'OTHER'): 4855, ('Prokaryote', 'OTHER'): 218, ('Vertebrate', 'OTHER'): 13586, ('Plant', 'OTHER'): 1317, ('Mammal', 'WGS/WGA'): 3865, ('Mouse', 'WGS/WGA'): 1459, ('Other', 'WGS/WGA'): 389, ('Human', 'WGS/WGA'): 16903, ('Vertebrate', 'WGS/WGA'): 35153, ('Invertebrate', 'OTHER'): 670, ('Metagenome', 'WGS/WGA'): 215709, ('Plant', 'RNA-Seq'): 21606, ('Vertebrate', 'RNA-Seq'): 47583, ('Virome', 'WGS/WGA'): 4699, ('Human', 'RNA-Seq'): 68697, ('Virome', 'OTHER'): 361, ('Mammal', 'OTHER'): 3473, ('Fungus', 'OTHER'): 411, ('Invertebrate', 'RNA-Seq'): 18200, ('Other', 'OTHER'): 364, ('Invertebrate', 'WGS/WGA'): 2338, ('Mammal', 'RNA-Seq'): 156118, ('Other', 'RNA-Seq'): 2656, ('Mouse', 'RNA-Seq'): 27029, ('Metagenome', 'RNA-Seq'): 1861019, ('Fungus', 'RNA-Seq'): 1528, ('Fungus', 'WGS/WGA'): 34109, ('Virome', 'RNA-Seq'): 4061, ('Prokaryote', 'RNA-Seq'): 41856, ('SARS-CoV-2', 'WGS/WGA'): 1213, ('SARS-CoV-2', 'OTHER'): 4489, ('SARS-CoV-2', 'RNA-Seq'): 2442}\n",
    "Var_Deltavirus_counter =  {('Prokaryote', 'WGS/WGA'): 389, ('Human', 'OTHER'): 1859, ('Metagenome', 'OTHER'): 413, ('Plant', 'WGS/WGA'): 49, ('Mouse', 'OTHER'): 45, ('Prokaryote', 'OTHER'): 0, ('Vertebrate', 'OTHER'): 58, ('Plant', 'OTHER'): 404, ('Mammal', 'WGS/WGA'): 4, ('Mouse', 'WGS/WGA'): 0, ('Other', 'WGS/WGA'): 0, ('Human', 'WGS/WGA'): 227, ('Vertebrate', 'WGS/WGA'): 16, ('Invertebrate', 'OTHER'): 410, ('Metagenome', 'WGS/WGA'): 665, ('Plant', 'RNA-Seq'): 42, ('Vertebrate', 'RNA-Seq'): 1836, ('Virome', 'WGS/WGA'): 66, ('Human', 'RNA-Seq'): 10936, ('Virome', 'OTHER'): 16816, ('Mammal', 'OTHER'): 3, ('Fungus', 'OTHER'): 25, ('Invertebrate', 'RNA-Seq'): 2011, ('Other', 'OTHER'): 13, ('Invertebrate', 'WGS/WGA'): 1430, ('Mammal', 'RNA-Seq'): 631, ('Other', 'RNA-Seq'): 10, ('Mouse', 'RNA-Seq'): 90, ('Metagenome', 'RNA-Seq'): 1495, ('Fungus', 'RNA-Seq'): 0, ('Fungus', 'WGS/WGA'): 1, ('Virome', 'RNA-Seq'): 491, ('Prokaryote', 'RNA-Seq'): 0, ('SARS-CoV-2', 'WGS/WGA'): 0, ('SARS-CoV-2', 'OTHER'): 0, ('SARS-CoV-2', 'RNA-Seq'): 0}\n",
    "Var_Osiris_counter = {('Prokaryote', 'WGS/WGA'): 1, ('Human', 'OTHER'): 7, ('Metagenome', 'OTHER'): 137, ('Plant', 'WGS/WGA'): 117, ('Mouse', 'OTHER'): 1, ('Prokaryote', 'OTHER'): 0, ('Vertebrate', 'OTHER'): 2, ('Plant', 'OTHER'): 6, ('Mammal', 'WGS/WGA'): 4, ('Mouse', 'WGS/WGA'): 2, ('Other', 'WGS/WGA'): 0, ('Human', 'WGS/WGA'): 5, ('Vertebrate', 'WGS/WGA'): 9, ('Invertebrate', 'OTHER'): 6, ('Metagenome', 'WGS/WGA'): 187, ('Plant', 'RNA-Seq'): 286, ('Vertebrate', 'RNA-Seq'): 17, ('Virome', 'WGS/WGA'): 2, ('Human', 'RNA-Seq'): 94, ('Virome', 'OTHER'): 0, ('Mammal', 'OTHER'): 2, ('Fungus', 'OTHER'): 1, ('Invertebrate', 'RNA-Seq'): 133, ('Other', 'OTHER'): 0, ('Invertebrate', 'WGS/WGA'): 9, ('Mammal', 'RNA-Seq'): 8, ('Other', 'RNA-Seq'): 3, ('Mouse', 'RNA-Seq'): 52, ('Metagenome', 'RNA-Seq'): 1026, ('Fungus', 'RNA-Seq'): 887, ('Fungus', 'WGS/WGA'): 0, ('Virome', 'RNA-Seq'): 8, ('Prokaryote', 'RNA-Seq'): 11, ('SARS-CoV-2', 'WGS/WGA'): 0, ('SARS-CoV-2', 'OTHER'): 0, ('SARS-CoV-2', 'RNA-Seq'): 0}\n",
    "Papilloma_counter = {('Prokaryote', 'WGS/WGA'): 9376328, ('Human', 'OTHER'): 112464431, ('Metagenome', 'OTHER'): 16939314, ('Plant', 'WGS/WGA'): 1063714, ('Mouse', 'OTHER'): 3254772, ('Prokaryote', 'OTHER'): 749683, ('Vertebrate', 'OTHER'): 352097, ('Plant', 'OTHER'): 1099353, ('Mammal', 'WGS/WGA'): 15688654, ('Mouse', 'WGS/WGA'): 268464, ('Other', 'WGS/WGA'): 1581996, ('Human', 'WGS/WGA'): 78876330, ('Vertebrate', 'WGS/WGA'): 464096, ('Invertebrate', 'OTHER'): 533388, ('Metagenome', 'WGS/WGA'): 48846647, ('Plant', 'RNA-Seq'): 2414054, ('Vertebrate', 'RNA-Seq'): 851388, ('Virome', 'WGS/WGA'): 771983, ('Human', 'RNA-Seq'): 199923321, ('Virome', 'OTHER'): 1609359, ('Mammal', 'OTHER'): 3262598, ('Fungus', 'OTHER'): 178183, ('Invertebrate', 'RNA-Seq'): 1533218, ('Other', 'OTHER'): 1512525, ('Invertebrate', 'WGS/WGA'): 1881812, ('Mammal', 'RNA-Seq'): 12198954, ('Other', 'RNA-Seq'): 1021559, ('Mouse', 'RNA-Seq'): 6529337, ('Metagenome', 'RNA-Seq'): 1957169, ('Fungus', 'RNA-Seq'): 284208, ('Fungus', 'WGS/WGA'): 170083, ('Virome', 'RNA-Seq'): 428768, ('Prokaryote', 'RNA-Seq'): 1366337, ('SARS-CoV-2', 'WGS/WGA'): 555665, ('SARS-CoV-2', 'OTHER'): 2569680, ('SARS-CoV-2', 'RNA-Seq'): 242107}"
   ]
  },
  {
   "cell_type": "code",
   "execution_count": 106,
   "id": "ba3b03d4",
   "metadata": {},
   "outputs": [
    {
     "data": {
      "image/png": "[encoded data removed]",
      "text/plain": [
       "<Figure size 180x252 with 2 Axes>"
      ]
     },
     "metadata": {},
     "output_type": "display_data"
    }
   ],
   "source": [
    "import seaborn as sns\n",
    "import matplotlib.pyplot as plt\n",
    "import pandas as pd\n",
    "from matplotlib.ticker import FixedLocator\n",
    "\n",
    "# Function to aggregate counts and convert to gigabases\n",
    "def aggregate_and_convert(counter_data, factor=1):\n",
    "    aggregated_data = {}\n",
    "    for (category1, category2), count in counter_data.items():\n",
    "        if category1 in aggregated_data:\n",
    "            aggregated_data[category1] += count\n",
    "        else:\n",
    "            aggregated_data[category1] = count\n",
    "    # Convert to gigabases\n",
    "    aggregated_data = {k: v / factor for k, v in aggregated_data.items()}\n",
    "    return aggregated_data\n",
    "\n",
    "# Convert all counters to gigabases and aggregate\n",
    "counters = [palmcores_counter, beetle_counter, Var_Obelisk_counter, Var_Deltavirus_counter, Var_Osiris_counter, Papilloma_counter]\n",
    "counter_names = ['PalmCores', 'Beetle', 'Var_Obelisk', 'Var_Deltavirus', 'Var_Osiris', 'Papilloma']\n",
    "\n",
    "dfs = []\n",
    "for counter, name in zip(counters, counter_names):\n",
    "    aggregated_data = aggregate_and_convert(counter)\n",
    "    df = pd.DataFrame(list(aggregated_data.items()), columns=['Organism', name])\n",
    "    dfs.append(df)\n",
    "\n",
    "# Merge all data\n",
    "merged_df = dfs[0]\n",
    "for df in dfs[1:]:\n",
    "    merged_df = pd.merge(merged_df, df, on='Organism', how='outer')\n",
    "\n",
    "# Set the desired order\n",
    "desired_order = ['Human', 'Mouse', 'Mammal', 'Vertebrate', 'Invertebrate', 'Fungus', 'Plant', 'SARS-CoV-2', 'Prokaryote', 'Virome', 'Metagenome', 'Other'][::-1]\n",
    "merged_df['Organism'] = pd.Categorical(merged_df['Organism'], categories=desired_order, ordered=True)\n",
    "merged_df = merged_df.sort_values('Organism')\n",
    "\n",
    "# Set the background to white\n",
    "sns.set_style(\"whitegrid\")\n",
    "\n",
    "# Create the plots\n",
    "fig, axes = plt.subplots(1, 2, figsize=(2.5, 3.5), sharey=True)\n",
    "\n",
    "# Plot for PalmCores, Beetle, and Papilloma\n",
    "merged_df[['Organism', 'PalmCores']].set_index('Organism').plot(kind='barh', stacked=True, ax=axes[0], color=['skyblue'], logx=True)\n",
    "axes[0].set_title('Palmcores')\n",
    "axes[0].set_xlabel('Hits (log scaled)')\n",
    "axes[0].set_ylabel('Organism')\n",
    "#axes[0].xaxis.set_major_locator(FixedLocator([0, 1, 2, 3, 4, 5]))\n",
    "\n",
    "# Plot for Var_Obelisk, Var_Deltavirus, Var_Osiris\n",
    "merged_df[['Organism', 'Var_Obelisk', ]].set_index('Organism').plot(kind='barh', stacked=True, ax=axes[1], color=['lightskyblue'])\n",
    "axes[1].set_title('Obelisks')\n",
    "axes[1].set_xlabel('Hits')\n",
    "axes[1].set_ylabel('')\n",
    "#axes[1].xaxis.set_major_locator(FixedLocator([0, 1, 2, 3, 4, 5]))\n",
    "\n",
    "axes[0].get_legend().remove()\n",
    "axes[1].get_legend().remove()\n",
    "\n",
    "# to combine with other plot\n",
    "plt.yticks([])\n",
    "plt.ylabel([])\n",
    "axes[0].set_ylabel('')\n",
    "\n",
    "plt.tight_layout()\n",
    "plt.savefig(\"simplified_assay_type_palmcores_obelisks.svg\", format=\"svg\")\n",
    "plt.show()\n"
   ]
  },
  {
   "cell_type": "code",
   "execution_count": null,
   "id": "6906b34c",
   "metadata": {},
   "outputs": [],
   "source": []
  },
  {
   "cell_type": "code",
   "execution_count": null,
   "id": "7295f374",
   "metadata": {},
   "outputs": [],
   "source": []
  }
 ],
 "metadata": {
  "kernelspec": {
   "display_name": "Python 3 (ipykernel)",
   "language": "python",
   "name": "python3"
  },
  "language_info": {
   "codemirror_mode": {
    "name": "ipython",
    "version": 3
   },
   "file_extension": ".py",
   "mimetype": "text/x-python",
   "name": "python",
   "nbconvert_exporter": "python",
   "pygments_lexer": "ipython3",
   "version": "3.7.0"
  }
 },
 "nbformat": 4,
 "nbformat_minor": 5
}
